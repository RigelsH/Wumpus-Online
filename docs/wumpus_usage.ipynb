{
 "cells": [
  {
   "cell_type": "markdown",
   "metadata": {},
   "source": [
    "# Notes on the use of Wumpus API"
   ]
  },
  {
   "cell_type": "markdown",
   "metadata": {},
   "source": [
    "See also the [wumpus_usage.py](https://gitlab.inf.unibz.it/tessaris/wumpus/-/blob/master/examples/wumpus_usage.py) file in the [wumpus package source code](https://gitlab.inf.unibz.it/tessaris/wumpus/-/tree/master)."
   ]
  },
  {
   "cell_type": "code",
   "execution_count": null,
   "metadata": {},
   "outputs": [],
   "source": [
    "import wumpus"
   ]
  },
  {
   "cell_type": "markdown",
   "metadata": {},
   "source": [
    "## World creation\n",
    "\n",
    "Worlds can be created randomly or from a JSON description."
   ]
  },
  {
   "cell_type": "markdown",
   "metadata": {},
   "source": [
    "Using a specific description of the world it's useful to test corner cases or understunding the behaviour of your agent. To do so you could use a JSON-formated string or file object with the class method `wumpus.WumpusWorld.from_JSON`; e.g.,"
   ]
  },
  {
   "cell_type": "code",
   "execution_count": null,
   "metadata": {},
   "outputs": [],
   "source": [
    "world_json = '''\n",
    "{\n",
    "  \"id\": \"simple wumpus world\",\n",
    "  \"size\": [7, 7],\n",
    "  \"hunters\": [[0, 0, \"N\"]],\n",
    "  \"pits\": [[4, 0], [3, 1], [2, 2], [6, 2], [4, 4], [3, 5], [4, 6], [5, 6]],\n",
    "  \"wumpuses\": [[1, 2]],\n",
    "  \"exits\": [[0, 0]],\n",
    "  \"golds\": [[6, 3], [3, 3]],\n",
    "  \"blocks\": []\n",
    "}\n",
    "'''\n",
    "print(wumpus.WumpusWorld.from_JSON(world_json))"
   ]
  },
  {
   "cell_type": "markdown",
   "metadata": {},
   "source": [
    "The `wumpus.WumpusWorld.classic` class method can be used to create a random world and the `wumpus.WumpusWorld.to_JSONs` can be used to get the JSON string representing the world:"
   ]
  },
  {
   "cell_type": "code",
   "execution_count": null,
   "metadata": {},
   "outputs": [],
   "source": [
    "random_world = wumpus.WumpusWorld.classic(size=6)\n",
    "\n",
    "print(random_world)"
   ]
  },
  {
   "cell_type": "markdown",
   "metadata": {},
   "source": [
    "To show the JSON configuration file you can use the `umpus.WumpusWorld.to_JSONs` method:"
   ]
  },
  {
   "cell_type": "code",
   "execution_count": null,
   "metadata": {},
   "outputs": [],
   "source": [
    "print(random_world.to_JSONs())"
   ]
  },
  {
   "cell_type": "markdown",
   "metadata": {},
   "source": [
    "## Testing your agent\n",
    "\n",
    "You can use the `wumpus.run_episode` to test your agent, the output is a dictionary with the details of the game.\n",
    "\n",
    "**Beware**: do not play twice the game on the same world object because playing changes its status and results can be unpredictable. Better create a new one each time (see below)."
   ]
  },
  {
   "cell_type": "code",
   "execution_count": null,
   "metadata": {},
   "outputs": [],
   "source": [
    "help(wumpus.run_episode)"
   ]
  },
  {
   "cell_type": "code",
   "execution_count": null,
   "metadata": {},
   "outputs": [],
   "source": [
    "episode_result = wumpus.run_episode(wumpus.WumpusWorld.from_JSON(world_json), wumpus.RandomPlayer(), show=False, horizon=10)"
   ]
  },
  {
   "cell_type": "markdown",
   "metadata": {},
   "source": [
    "The result of an episode provides information about the world (`world` attribute), the sequence of actions (`actions`), the final reward (`reward`), the status of the agent (`alive`), and whether the maximum number of steps have been reached (`maxsteps`, according to the `horizon` parameter of `wumpus.run_episode`). Moreover, any exception within the player code should be trapped and reported (`exception`)."
   ]
  },
  {
   "cell_type": "code",
   "execution_count": null,
   "metadata": {
    "tags": []
   },
   "outputs": [],
   "source": [
    "episode_result"
   ]
  },
  {
   "cell_type": "code",
   "execution_count": null,
   "metadata": {
    "tags": []
   },
   "outputs": [],
   "source": [
    "wumpus.Hunter.orientation??"
   ]
  },
  {
   "cell_type": "code",
   "execution_count": null,
   "metadata": {},
   "outputs": [],
   "source": []
  }
 ],
 "metadata": {
  "interpreter": {
   "hash": "e238ed82568763522dac3f9ad71a9c8d6b9500024dfa12bd64b36cc255a6bffe"
  },
  "kernelspec": {
   "display_name": "Python 3 (ipykernel)",
   "language": "python",
   "name": "python3"
  },
  "language_info": {
   "codemirror_mode": {
    "name": "ipython",
    "version": 3
   },
   "file_extension": ".py",
   "mimetype": "text/x-python",
   "name": "python",
   "nbconvert_exporter": "python",
   "pygments_lexer": "ipython3",
   "version": "3.10.10"
  }
 },
 "nbformat": 4,
 "nbformat_minor": 4
}
